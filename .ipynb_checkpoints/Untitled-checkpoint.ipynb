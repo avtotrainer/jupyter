{
 "cells": [
  {
   "cell_type": "markdown",
   "id": "208ca19b-1b5f-4a5e-8262-3a9a502d65cd",
   "metadata": {},
   "source": [
    "# ᲡᲐᲗᲐᲣᲠᲘ\n",
    "\n"
   ]
  },
  {
   "cell_type": "markdown",
   "id": "f9ce4bf6-6d51-4b5e-a60f-5a79e6d893f3",
   "metadata": {},
   "source": [
    "<h1> წითელი ტექსტი </h1>\n"
   ]
  },
  {
   "cell_type": "markdown",
   "id": "e3356466-3d1a-4dbc-ae62-d635d4171a1c",
   "metadata": {},
   "source": [
    "<span style = \"color:red; background:yellow;\"> წითელი ტექსტი </span>"
   ]
  },
  {
   "cell_type": "code",
   "execution_count": null,
   "id": "3ab547ad-846c-468c-80b7-f5bf7bbaf2eb",
   "metadata": {},
   "outputs": [],
   "source": []
  },
  {
   "cell_type": "code",
   "execution_count": null,
   "id": "064554d7-e91b-4298-824a-f58cdc37b5d4",
   "metadata": {},
   "outputs": [],
   "source": []
  }
 ],
 "metadata": {
  "kernelspec": {
   "display_name": "Python 3 (ipykernel)",
   "language": "python",
   "name": "python3"
  },
  "language_info": {
   "codemirror_mode": {
    "name": "ipython",
    "version": 3
   },
   "file_extension": ".py",
   "mimetype": "text/x-python",
   "name": "python",
   "nbconvert_exporter": "python",
   "pygments_lexer": "ipython3",
   "version": "3.12.4"
  }
 },
 "nbformat": 4,
 "nbformat_minor": 5
}
